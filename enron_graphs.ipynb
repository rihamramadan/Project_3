{
 "cells": [
  {
   "cell_type": "code",
   "execution_count": 98,
   "metadata": {},
   "outputs": [],
   "source": [
    "%matplotlib inline\n",
    "# Dependencies and Setup\n",
    "import matplotlib.pyplot as plt\n",
    "import pandas as pd\n",
    "import numpy as np\n",
    "import os"
   ]
  },
  {
   "cell_type": "code",
   "execution_count": 99,
   "metadata": {},
   "outputs": [
    {
     "data": {
      "text/html": [
       "<div>\n",
       "<style scoped>\n",
       "    .dataframe tbody tr th:only-of-type {\n",
       "        vertical-align: middle;\n",
       "    }\n",
       "\n",
       "    .dataframe tbody tr th {\n",
       "        vertical-align: top;\n",
       "    }\n",
       "\n",
       "    .dataframe thead th {\n",
       "        text-align: right;\n",
       "    }\n",
       "</style>\n",
       "<table border=\"1\" class=\"dataframe\">\n",
       "  <thead>\n",
       "    <tr style=\"text-align: right;\">\n",
       "      <th></th>\n",
       "      <th>name</th>\n",
       "      <th>salary</th>\n",
       "      <th>to_messages</th>\n",
       "      <th>deferral_payments</th>\n",
       "      <th>total_payments</th>\n",
       "      <th>exercised_stock_options</th>\n",
       "      <th>bonus</th>\n",
       "      <th>restricted_stock</th>\n",
       "      <th>shared_receipt_with_poi</th>\n",
       "      <th>restricted_stock_deferred</th>\n",
       "      <th>...</th>\n",
       "      <th>loan_advances</th>\n",
       "      <th>from_messages</th>\n",
       "      <th>other</th>\n",
       "      <th>from_this_person_to_poi</th>\n",
       "      <th>poi</th>\n",
       "      <th>director_fees</th>\n",
       "      <th>deferred_income</th>\n",
       "      <th>long_term_incentive</th>\n",
       "      <th>email_address</th>\n",
       "      <th>from_poi_to_this_person</th>\n",
       "    </tr>\n",
       "  </thead>\n",
       "  <tbody>\n",
       "    <tr>\n",
       "      <th>0</th>\n",
       "      <td>METTS MARK</td>\n",
       "      <td>365788.0</td>\n",
       "      <td>807.0</td>\n",
       "      <td>0.0</td>\n",
       "      <td>1061827.0</td>\n",
       "      <td>0.0</td>\n",
       "      <td>600000.0</td>\n",
       "      <td>585062.0</td>\n",
       "      <td>702.0</td>\n",
       "      <td>0.0</td>\n",
       "      <td>...</td>\n",
       "      <td>0.0</td>\n",
       "      <td>29.0</td>\n",
       "      <td>1740.0</td>\n",
       "      <td>1.0</td>\n",
       "      <td>False</td>\n",
       "      <td>0.0</td>\n",
       "      <td>0.0</td>\n",
       "      <td>0.0</td>\n",
       "      <td>mark.metts@enron.com</td>\n",
       "      <td>38.0</td>\n",
       "    </tr>\n",
       "    <tr>\n",
       "      <th>1</th>\n",
       "      <td>BAXTER JOHN C</td>\n",
       "      <td>267102.0</td>\n",
       "      <td>0.0</td>\n",
       "      <td>1295738.0</td>\n",
       "      <td>5634343.0</td>\n",
       "      <td>6680544.0</td>\n",
       "      <td>1200000.0</td>\n",
       "      <td>3942714.0</td>\n",
       "      <td>0.0</td>\n",
       "      <td>0.0</td>\n",
       "      <td>...</td>\n",
       "      <td>0.0</td>\n",
       "      <td>0.0</td>\n",
       "      <td>2660303.0</td>\n",
       "      <td>0.0</td>\n",
       "      <td>False</td>\n",
       "      <td>0.0</td>\n",
       "      <td>-1386055.0</td>\n",
       "      <td>1586055.0</td>\n",
       "      <td>0</td>\n",
       "      <td>0.0</td>\n",
       "    </tr>\n",
       "    <tr>\n",
       "      <th>2</th>\n",
       "      <td>ELLIOTT STEVEN</td>\n",
       "      <td>170941.0</td>\n",
       "      <td>0.0</td>\n",
       "      <td>0.0</td>\n",
       "      <td>211725.0</td>\n",
       "      <td>4890344.0</td>\n",
       "      <td>350000.0</td>\n",
       "      <td>1788391.0</td>\n",
       "      <td>0.0</td>\n",
       "      <td>0.0</td>\n",
       "      <td>...</td>\n",
       "      <td>0.0</td>\n",
       "      <td>0.0</td>\n",
       "      <td>12961.0</td>\n",
       "      <td>0.0</td>\n",
       "      <td>False</td>\n",
       "      <td>0.0</td>\n",
       "      <td>-400729.0</td>\n",
       "      <td>0.0</td>\n",
       "      <td>steven.elliott@enron.com</td>\n",
       "      <td>0.0</td>\n",
       "    </tr>\n",
       "    <tr>\n",
       "      <th>3</th>\n",
       "      <td>CORDES WILLIAM R</td>\n",
       "      <td>0.0</td>\n",
       "      <td>764.0</td>\n",
       "      <td>0.0</td>\n",
       "      <td>0.0</td>\n",
       "      <td>651850.0</td>\n",
       "      <td>0.0</td>\n",
       "      <td>386335.0</td>\n",
       "      <td>58.0</td>\n",
       "      <td>0.0</td>\n",
       "      <td>...</td>\n",
       "      <td>0.0</td>\n",
       "      <td>12.0</td>\n",
       "      <td>0.0</td>\n",
       "      <td>0.0</td>\n",
       "      <td>False</td>\n",
       "      <td>0.0</td>\n",
       "      <td>0.0</td>\n",
       "      <td>0.0</td>\n",
       "      <td>bill.cordes@enron.com</td>\n",
       "      <td>10.0</td>\n",
       "    </tr>\n",
       "    <tr>\n",
       "      <th>4</th>\n",
       "      <td>HANNON KEVIN P</td>\n",
       "      <td>243293.0</td>\n",
       "      <td>1045.0</td>\n",
       "      <td>0.0</td>\n",
       "      <td>288682.0</td>\n",
       "      <td>5538001.0</td>\n",
       "      <td>1500000.0</td>\n",
       "      <td>853064.0</td>\n",
       "      <td>1035.0</td>\n",
       "      <td>0.0</td>\n",
       "      <td>...</td>\n",
       "      <td>0.0</td>\n",
       "      <td>32.0</td>\n",
       "      <td>11350.0</td>\n",
       "      <td>21.0</td>\n",
       "      <td>True</td>\n",
       "      <td>0.0</td>\n",
       "      <td>-3117011.0</td>\n",
       "      <td>1617011.0</td>\n",
       "      <td>kevin.hannon@enron.com</td>\n",
       "      <td>32.0</td>\n",
       "    </tr>\n",
       "  </tbody>\n",
       "</table>\n",
       "<p>5 rows × 22 columns</p>\n",
       "</div>"
      ],
      "text/plain": [
       "               name    salary  to_messages  deferral_payments  total_payments  \\\n",
       "0        METTS MARK  365788.0        807.0                0.0       1061827.0   \n",
       "1     BAXTER JOHN C  267102.0          0.0          1295738.0       5634343.0   \n",
       "2    ELLIOTT STEVEN  170941.0          0.0                0.0        211725.0   \n",
       "3  CORDES WILLIAM R       0.0        764.0                0.0             0.0   \n",
       "4    HANNON KEVIN P  243293.0       1045.0                0.0        288682.0   \n",
       "\n",
       "   exercised_stock_options      bonus  restricted_stock  \\\n",
       "0                      0.0   600000.0          585062.0   \n",
       "1                6680544.0  1200000.0         3942714.0   \n",
       "2                4890344.0   350000.0         1788391.0   \n",
       "3                 651850.0        0.0          386335.0   \n",
       "4                5538001.0  1500000.0          853064.0   \n",
       "\n",
       "   shared_receipt_with_poi  restricted_stock_deferred  \\\n",
       "0                    702.0                        0.0   \n",
       "1                      0.0                        0.0   \n",
       "2                      0.0                        0.0   \n",
       "3                     58.0                        0.0   \n",
       "4                   1035.0                        0.0   \n",
       "\n",
       "            ...             loan_advances  from_messages      other  \\\n",
       "0           ...                       0.0           29.0     1740.0   \n",
       "1           ...                       0.0            0.0  2660303.0   \n",
       "2           ...                       0.0            0.0    12961.0   \n",
       "3           ...                       0.0           12.0        0.0   \n",
       "4           ...                       0.0           32.0    11350.0   \n",
       "\n",
       "   from_this_person_to_poi    poi  director_fees  deferred_income  \\\n",
       "0                      1.0  False            0.0              0.0   \n",
       "1                      0.0  False            0.0       -1386055.0   \n",
       "2                      0.0  False            0.0        -400729.0   \n",
       "3                      0.0  False            0.0              0.0   \n",
       "4                     21.0   True            0.0       -3117011.0   \n",
       "\n",
       "   long_term_incentive             email_address  from_poi_to_this_person  \n",
       "0                  0.0      mark.metts@enron.com                     38.0  \n",
       "1            1586055.0                         0                      0.0  \n",
       "2                  0.0  steven.elliott@enron.com                      0.0  \n",
       "3                  0.0     bill.cordes@enron.com                     10.0  \n",
       "4            1617011.0    kevin.hannon@enron.com                     32.0  \n",
       "\n",
       "[5 rows x 22 columns]"
      ]
     },
     "execution_count": 99,
     "metadata": {},
     "output_type": "execute_result"
    }
   ],
   "source": [
    "enron = pd.read_csv(os.path.join('enron_salary_numeric.csv'))\n",
    "enron_numeric_df = pd.DataFrame(enron)\n",
    "enron_numeric_df.head()"
   ]
  },
  {
   "cell_type": "code",
   "execution_count": 100,
   "metadata": {},
   "outputs": [
    {
     "data": {
      "text/plain": [
       "False    128\n",
       "True      18\n",
       "Name: poi, dtype: int64"
      ]
     },
     "execution_count": 100,
     "metadata": {},
     "output_type": "execute_result"
    }
   ],
   "source": [
    "enron_numeric_df['poi'].value_counts()"
   ]
  },
  {
   "cell_type": "code",
   "execution_count": 101,
   "metadata": {},
   "outputs": [],
   "source": [
    "bonus = enron_numeric_df['bonus']\n",
    "salary = enron_numeric_df['salary']\n",
    "name = enron_numeric_df['name']"
   ]
  },
  {
   "cell_type": "code",
   "execution_count": 102,
   "metadata": {},
   "outputs": [
    {
     "data": {
      "image/png": "[encoded data removed]",
      "text/plain": [
       "<Figure size 432x288 with 1 Axes>"
      ]
     },
     "metadata": {
      "needs_background": "light"
     },
     "output_type": "display_data"
    }
   ],
   "source": [
    "plt.scatter(bonus, \n",
    "            salary, \n",
    "            c=\"coral\", \n",
    "            edgecolor=\"black\", linewidths=1, marker=\"o\", \n",
    "            alpha=0.8, label=\"Urban\")\n",
    "\n",
    "plt.title(\"Enron Bonus v Salary (With TOTAL)\")\n",
    "plt.ylabel(\"Salary\")\n",
    "plt.xlabel(\"Bonus\")\n",
    "plt.grid(True)\n",
    "\n",
    "plt.savefig(\"Salary_v_Bonus_total.png\")\n",
    "plt.show()"
   ]
  },
  {
   "cell_type": "code",
   "execution_count": 103,
   "metadata": {},
   "outputs": [],
   "source": [
    "enron_numeric_trimmed_df = enron_numeric_df[enron_numeric_df.name != 'TOTAL']"
   ]
  },
  {
   "cell_type": "code",
   "execution_count": 104,
   "metadata": {},
   "outputs": [
    {
     "data": {
      "text/plain": [
       "False    127\n",
       "True      18\n",
       "Name: poi, dtype: int64"
      ]
     },
     "execution_count": 104,
     "metadata": {},
     "output_type": "execute_result"
    }
   ],
   "source": [
    "enron_numeric_trimmed_df['poi'].value_counts()"
   ]
  },
  {
   "cell_type": "code",
   "execution_count": 107,
   "metadata": {},
   "outputs": [],
   "source": [
    "poi = enron_numeric_trimmed_df[enron_numeric_trimmed_df.poi == True]\n",
    "\n",
    "non_poi = enron_numeric_trimmed_df[enron_numeric_trimmed_df.poi == False]\n",
    "\n",
    "\n",
    "bonus_poi = poi['bonus']\n",
    "salary_poi = poi['salary']\n",
    "bonus_non_poi = non_poi['bonus']\n",
    "salary_non_poi = non_poi['salary']"
   ]
  },
  {
   "cell_type": "code",
   "execution_count": 118,
   "metadata": {},
   "outputs": [
    {
     "data": {
      "text/plain": [
       "<function matplotlib.pyplot.show(*args, **kw)>"
      ]
     },
     "execution_count": 118,
     "metadata": {},
     "output_type": "execute_result"
    },
    {
     "data": {
      "image/png": "[encoded data removed]",
      "text/plain": [
       "<Figure size 432x288 with 1 Axes>"
      ]
     },
     "metadata": {
      "needs_background": "light"
     },
     "output_type": "display_data"
    }
   ],
   "source": [
    "plt.scatter(bonus_poi, \n",
    "            salary_poi,\n",
    "            s=.0002*salary_poi,\n",
    "            c=\"red\", \n",
    "            edgecolor=\"black\", linewidths=1, marker=\"o\", \n",
    "            alpha=0.6, label=\"Salary POI\")\n",
    "\n",
    "plt.scatter(bonus_non_poi, \n",
    "            salary_non_poi,\n",
    "            s=.0002*salary_non_poi,\n",
    "            c=\"green\", \n",
    "            edgecolor=\"black\", linewidths=1, marker=\"o\", \n",
    "            alpha=0.6, label=\"Salary Non POI\")\n",
    "\n",
    "\n",
    "plt.title(\"Enron Bonus v Salary (W/O Total)\")\n",
    "plt.ylabel(\"Salary\")\n",
    "plt.xlabel(\"Bonus\")\n",
    "plt.grid(True)\n",
    "plt.xticks()\n",
    "\n",
    "\n",
    "plt.legend(fontsize=\"small\", mode=\"Expanded\", \n",
    "                  numpoints=1, scatterpoints=1, \n",
    "                  loc=\"lower right\", title=\"City Types\", \n",
    "                  labelspacing=0.5)\n",
    "\n",
    "# plt.scatter(rural_ride_count,\n",
    "#            rural_avg_fare,\n",
    "#            s=10*rural_driver_count, c=\"gold\",\n",
    "#            edgecolor=\"black\", linewidths=1, marker=\"o\",\n",
    "#            alpha=0.8, label=\"Rural\")\n",
    "\n",
    "plt.savefig(\"Salary_v_Bonus_no_total.png\")\n",
    "plt.show"
   ]
  },
  {
   "cell_type": "code",
   "execution_count": 55,
   "metadata": {},
   "outputs": [
    {
     "data": {
      "text/plain": [
       "['False', 'True']"
      ]
     },
     "execution_count": 55,
     "metadata": {},
     "output_type": "execute_result"
    }
   ],
   "source": [
    "avg_salary = enron_numeric_trimmed_df.groupby([\"poi\"]).mean()[\"salary\"]\n",
    "poi = ['False', 'True']\n",
    "poi"
   ]
  },
  {
   "cell_type": "code",
   "execution_count": 56,
   "metadata": {},
   "outputs": [
    {
     "data": {
      "text/plain": [
       "<function matplotlib.pyplot.show(*args, **kw)>"
      ]
     },
     "execution_count": 56,
     "metadata": {},
     "output_type": "execute_result"
    },
    {
     "data": {
      "image/png": "[encoded data removed]",
      "text/plain": [
       "<Figure size 432x288 with 1 Axes>"
      ]
     },
     "metadata": {
      "needs_background": "light"
     },
     "output_type": "display_data"
    }
   ],
   "source": [
    "plt.bar(poi, avg_salary)\n",
    "plt.show"
   ]
  },
  {
   "cell_type": "code",
   "execution_count": 57,
   "metadata": {},
   "outputs": [],
   "source": [
    "avg_bonus = enron_numeric_trimmed_df.groupby([\"poi\"]).mean()[\"bonus\"]"
   ]
  },
  {
   "cell_type": "code",
   "execution_count": 58,
   "metadata": {},
   "outputs": [
    {
     "data": {
      "text/plain": [
       "<function matplotlib.pyplot.show(*args, **kw)>"
      ]
     },
     "execution_count": 58,
     "metadata": {},
     "output_type": "execute_result"
    },
    {
     "data": {
      "image/png": "[encoded data removed]",
      "text/plain": [
       "<Figure size 432x288 with 1 Axes>"
      ]
     },
     "metadata": {
      "needs_background": "light"
     },
     "output_type": "display_data"
    }
   ],
   "source": [
    "plt.bar(poi, avg_bonus)\n",
    "plt.show"
   ]
  },
  {
   "cell_type": "code",
   "execution_count": null,
   "metadata": {},
   "outputs": [],
   "source": []
  }
 ],
 "metadata": {
  "kernelspec": {
   "display_name": "Python 3",
   "language": "python",
   "name": "python3"
  },
  "language_info": {
   "codemirror_mode": {
    "name": "ipython",
    "version": 3
   },
   "file_extension": ".py",
   "mimetype": "text/x-python",
   "name": "python",
   "nbconvert_exporter": "python",
   "pygments_lexer": "ipython3",
   "version": "3.6.7"
  }
 },
 "nbformat": 4,
 "nbformat_minor": 2
}
